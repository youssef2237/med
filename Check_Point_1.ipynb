{
  "nbformat": 4,
  "nbformat_minor": 0,
  "metadata": {
    "colab": {
      "name": "Check Point 1.ipynb",
      "provenance": []
    },
    "kernelspec": {
      "name": "python3",
      "display_name": "Python 3"
    },
    "language_info": {
      "name": "python"
    }
  },
  "cells": [
    {
      "cell_type": "code",
      "metadata": {
        "colab": {
          "base_uri": "https://localhost:8080/"
        },
        "id": "DO0G9cX-ODbk",
        "outputId": "e2583b79-2cce-4b5a-9032-98176b67b5b8"
      },
      "source": [
        "print(\"Hello Youssef !! \")"
      ],
      "execution_count": null,
      "outputs": [
        {
          "output_type": "stream",
          "name": "stdout",
          "text": [
            "Hello Youssef !! \n"
          ]
        }
      ]
    },
    {
      "cell_type": "code",
      "metadata": {
        "id": "BWjsmNY_OdD8"
      },
      "source": [
        "name=\"youssef\"\n",
        "print(name)"
      ],
      "execution_count": null,
      "outputs": []
    },
    {
      "cell_type": "code",
      "metadata": {
        "id": "POQOyu2lQJny",
        "colab": {
          "base_uri": "https://localhost:8080/"
        },
        "outputId": "b4a02f2b-0d61-4681-efde-0d57768b8b68"
      },
      "source": [
        "x=(input(\"donner le prénom\"))\n",
        "y=(input(\"donner le nom\"))\n",
        "z=y+\" \"+x\n",
        "print(z)"
      ],
      "execution_count": null,
      "outputs": [
        {
          "output_type": "stream",
          "name": "stdout",
          "text": [
            "donner le prénomfatma\n",
            "donner le nomjazzar\n",
            "jazzar fatma\n"
          ]
        }
      ]
    },
    {
      "cell_type": "code",
      "metadata": {
        "id": "aVNi9aBpRo7W"
      },
      "source": [
        "#Bravoo !"
      ],
      "execution_count": null,
      "outputs": []
    },
    {
      "cell_type": "code",
      "metadata": {
        "id": "ZR4osdDBRrtN"
      },
      "source": [
        "name=input(\"tapez votre prenom\")\n",
        "last_name=input(\"tapez votre \")\n",
        "x=last_name+\" \"+name\n",
        "print(x)\n"
      ],
      "execution_count": null,
      "outputs": []
    },
    {
      "cell_type": "code",
      "metadata": {
        "id": "ppIGxKRvUChM",
        "colab": {
          "base_uri": "https://localhost:8080/"
        },
        "outputId": "4d3bfa06-004e-462f-d3dc-e7486c2bcdc9"
      },
      "source": [
        "nb=int(input(\"tapez un chiffre\"))\n",
        "nb2=nb*11\n",
        "nb3=nb*111\n",
        "total=nb+nb2+nb3\n",
        "print(total)"
      ],
      "execution_count": null,
      "outputs": [
        {
          "output_type": "stream",
          "name": "stdout",
          "text": [
            "tapez un chiffre5\n",
            "615\n"
          ]
        }
      ]
    },
    {
      "cell_type": "code",
      "metadata": {
        "id": "RXyMry8hULrE"
      },
      "source": [
        "nb=int(input(\"tapez un nombre\"))\n",
        "reste=nb%2\n",
        "if(reste==0):\n",
        "    print(\"le nombre entré est pair\")\n",
        "else:\n",
        "    print(\"le nombre entré est impair\")"
      ],
      "execution_count": null,
      "outputs": []
    },
    {
      "cell_type": "code",
      "metadata": {
        "id": "3y9KJUGfYNVj"
      },
      "source": [
        "nb=int(input(\"tapez un chiffre\"))\n",
        "if nb==1 or nb==0:\n",
        "    print(\"factoriel=1\")\n",
        "    else\n",
        "    for i in range(1,nb)\n",
        "    nb=nb*i\n",
        "    print(nb)"
      ],
      "execution_count": null,
      "outputs": []
    },
    {
      "cell_type": "code",
      "metadata": {
        "id": "LBDyKZ_xhQ81"
      },
      "source": [
        "nb=int(input(\"tapez un nombre\"))\n",
        "for nb in range(2000,3200):\n",
        "    if nb%7==0 and nb%5!=0:\n",
        "        print(nb)"
      ],
      "execution_count": null,
      "outputs": []
    },
    {
      "cell_type": "code",
      "metadata": {
        "id": "db6JXozEi5is"
      },
      "source": [
        "price=int(input(\"donnez le prix du produit\"))\n",
        "if price>=500:\n",
        "  new_price=price*0.5\n",
        "  elif 200<=price<500:\n",
        "    new_price=price*0.7\n",
        "    else:\n",
        "      new_price=price*0.9\n",
        "print(new_price)\n",
        "\n"
      ],
      "execution_count": null,
      "outputs": []
    },
    {
      "cell_type": "code",
      "metadata": {
        "id": "wVstNsL-uJ3C"
      },
      "source": [
        ""
      ],
      "execution_count": null,
      "outputs": []
    }
  ]
}